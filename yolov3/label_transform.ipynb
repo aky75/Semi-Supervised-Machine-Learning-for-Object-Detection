{
 "cells": [
  {
   "cell_type": "code",
   "execution_count": 1,
   "metadata": {},
   "outputs": [],
   "source": [
    "import os\n",
    "import sys\n",
    "import shutil\n",
    "from pathlib import Path\n",
    "import numpy as np\n",
    "import pandas as pd\n",
    "from sklearn.model_selection import train_test_split\n",
    "import cv2\n",
    "import matplotlib.pyplot as plt\n",
    "import matplotlib.patches as patches\n",
    "from PIL import Image"
   ]
  },
  {
   "cell_type": "code",
   "execution_count": 2,
   "metadata": {},
   "outputs": [],
   "source": [
    "src = '/home/aditya/yolov3/data/label_kitti/training/label_2/'\n",
    "dst = '/home/aditya/yolov3/master/data/labels_kitti'\n",
    "src_files = os.listdir(src)\n",
    "for file_name in src_files:\n",
    "    full_file_name = os.path.join(src, file_name)\n",
    "    if os.path.isfile(full_file_name):\n",
    "        shutil.copy(full_file_name, dst)"
   ]
  },
  {
   "cell_type": "code",
   "execution_count": 3,
   "metadata": {},
   "outputs": [],
   "source": [
    "filepath = Path('/home/aditya/yolov3/master/data/labels_kitti/')\n",
    "\n",
    "mapping = { 'Car ':'Vehicle ', 'Truck ':'Vehicle ', 'Van ':'Vehicle ','Tram ':'Vehicle ', 'Misc ':'Non-Vehicle ', 'Cyclist ':'Non-Vehicle ','Pedestrian ':'Non-Vehicle ','Person_sitting ':'Non-Vehicle ','DontCare ' : 'Non-Vehicle ' }\n",
    "\n",
    "max_iterations = 7481"
   ]
  },
  {
   "cell_type": "code",
   "execution_count": 4,
   "metadata": {},
   "outputs": [
    {
     "data": {
      "text/plain": [
       "PosixPath('/home/aditya/yolov3/master/data/labels_kitti')"
      ]
     },
     "execution_count": 4,
     "metadata": {},
     "output_type": "execute_result"
    }
   ],
   "source": [
    "filepath"
   ]
  },
  {
   "cell_type": "code",
   "execution_count": 5,
   "metadata": {},
   "outputs": [],
   "source": [
    "for x in list(filepath.glob('*.txt'))[:max_iterations]:\n",
    "    # Read in the file\n",
    "    with open(x, 'r') as file :\n",
    "      filedata = file.read()\n",
    "    # Replace the target string\n",
    "    for key, value in mapping.items():\n",
    "      filedata = filedata.replace(key,value)\n",
    "    # Write the file out again\n",
    "    with open(x, 'w') as file:\n",
    "      file.write(filedata)"
   ]
  },
  {
   "cell_type": "code",
   "execution_count": 7,
   "metadata": {},
   "outputs": [
    {
     "name": "stdout",
     "output_type": "stream",
     "text": [
      "Labels tranfrom finished!\n"
     ]
    }
   ],
   "source": [
    "#set your data_set absolute path\n",
    "# test example\n",
    "kitti_img_path ='/home/aditya/yolov3/master/data/images/'\n",
    "kitti_label_path = '/home/aditya/yolov3/master/data/labels_kitti/'\n",
    "\n",
    "\n",
    "#transformed lables to save path\n",
    "kitti_label_tosave_path = '/home/aditya/yolov3/master/data/labels/'\n",
    "\n",
    "index = 0\n",
    "cvfont = cv2.FONT_HERSHEY_SIMPLEX\n",
    "\n",
    "kitti_names = open('data/kitti1.names','r')\n",
    "kitti_names_contents = kitti_names.readlines()                \n",
    "kitti_images = os.listdir(kitti_img_path)\n",
    "kitti_labels = os.listdir(kitti_label_path)\n",
    "\n",
    "kitti_images.sort()\n",
    "kitti_labels.sort()\n",
    "\n",
    "kitti_names_dic_key = []\n",
    "for class_name in kitti_names_contents:\n",
    "    kitti_names_dic_key.append(class_name.rstrip())\n",
    "values = range(len(kitti_names_dic_key))\n",
    "kitti_names_num = dict(zip(kitti_names_dic_key,values))\n",
    "\n",
    "#print(kitti_names_num)\n",
    "#os.makedirs(\"imagewbox\", exist_ok=True)\n",
    "\n",
    "\n",
    "indexi = 1\n",
    "\n",
    "for indexi in range(len(kitti_images)):\n",
    "    kitti_img_totest_path = kitti_img_path + kitti_images[indexi]\n",
    "    kitti_label_totest_path = kitti_label_path + kitti_labels[indexi]\n",
    "    #print(kitti_label_totest_path,kitti_img_totest_path)\n",
    "    \n",
    "    kitti_img_totest = cv2.imread(kitti_img_totest_path)\n",
    "    #print(kitti_img_totest,type(kitti_img_totest))\n",
    "    img_height, img_width = kitti_img_totest.shape[0],kitti_img_totest.shape[1]\n",
    "    \n",
    "    #plotting image\n",
    "    fig,ax = plt.subplots(1)\n",
    "    ax.imshow(kitti_img_totest)\n",
    "    \n",
    "    kitti_label_totest = open(kitti_label_totest_path,'r')\n",
    "    \n",
    "    label_contents = kitti_label_totest.readlines()\n",
    "    #print(label_contents)\n",
    "    \n",
    "    real_label_to_write = []\n",
    "    for line in label_contents:\n",
    "        data = line.split(' ')\n",
    "        x=y=w=h=0\n",
    "        if(len(data) == 15):\n",
    "            class_str = data[0]\n",
    "            if(class_str != 'Non-Vehicle'):\n",
    "                # for kitti calls is a string\n",
    "                # trans this to number by using kitti.names\n",
    "                #(x,y) center (w,h) size\n",
    "                \n",
    "                x1 = float(data[4])\n",
    "                y1 = float(data[5])\n",
    "                x2 = float(data[6])\n",
    "                y2 = float(data[7])\n",
    "                w = x2-x1\n",
    "                h = y2-y1\n",
    "                \n",
    "                #print(\"Bounding Box:\", class_str,x1,y1,w,h)\n",
    "                rect = patches.Rectangle((x1,y1),w,h,linewidth=1,edgecolor='r',facecolor='none')\n",
    "                ax.add_patch(rect)\n",
    "                intx1 = int(x1)\n",
    "                inty1 = int(y1)\n",
    "                intx2 = int(x2)\n",
    "                inty2 = int(y2)\n",
    "\n",
    "                bbox_center_x = float( (x1 + (x2 - x1) / 2.0) / img_width)\n",
    "                bbox_center_y = float( (y1 + (y2 - y1) / 2.0) / img_height)\n",
    "                bbox_width = float((x2 - x1) / img_width)\n",
    "                bbox_height = float((y2 - y1) / img_height)\n",
    "                \n",
    "                #cv2.rectangle(kitti_img_totest, (intx1,inty1), (intx2,inty2), (0,255,0), 2)\n",
    "                line_to_write = str(kitti_names_num[class_str]) + ' ' + str(bbox_center_x)+ ' ' + str(bbox_center_y)+ ' ' + str(bbox_width)+ ' ' + str(bbox_height) +'\\n'\n",
    "                #print(\"Transformed Label:\", line_to_write)\n",
    "                real_label_to_write.append(line_to_write)\n",
    "                sys.stdout.write(str(int((indexi/len(kitti_images))*100))+'% '+'*******************->' \"\\r\" )\n",
    "                sys.stdout.flush()\n",
    "                #plt.show()\n",
    "    \n",
    "    if len(real_label_to_write) > 0:\n",
    "        real_label = open(kitti_label_tosave_path + kitti_labels[indexi],'w')\n",
    "        for line in real_label_to_write:\n",
    "            real_label.write(line)\n",
    "        real_label.close()\n",
    "    #plt.show()\n",
    "    #plt.savefig(f\"imagewbox/{kitti_images[indexi]}\", bbox_inches=\"tight\", pad_inches=0.0)\n",
    "    plt.close()\n",
    "kitti_names.close()\n",
    "\n",
    "print(\"Labels tranfrom finished!\")"
   ]
  },
  {
   "cell_type": "code",
   "execution_count": 42,
   "metadata": {},
   "outputs": [],
   "source": [
    "kitti_labels = os.listdir(kitti_label_tosave_path)\n",
    "\n",
    "\n",
    "f = open('pathtofile.txt','w')\n",
    "for item in kitti_labels:\n",
    "    if item.split('.')[1] == 'txt':\n",
    "        img = item.split('.')[0]+\".png\"\n",
    "        f.write(kitti_img_path+img+'\\n')\n",
    "f.close()"
   ]
  },
  {
   "cell_type": "code",
   "execution_count": 43,
   "metadata": {},
   "outputs": [],
   "source": [
    "pathtofile = pd.read_csv('/home/aditya/yolov3/master/pathtofile.txt',sep='\\n',header=None)"
   ]
  },
  {
   "cell_type": "code",
   "execution_count": 45,
   "metadata": {},
   "outputs": [
    {
     "data": {
      "text/html": [
       "<div>\n",
       "<style scoped>\n",
       "    .dataframe tbody tr th:only-of-type {\n",
       "        vertical-align: middle;\n",
       "    }\n",
       "\n",
       "    .dataframe tbody tr th {\n",
       "        vertical-align: top;\n",
       "    }\n",
       "\n",
       "    .dataframe thead th {\n",
       "        text-align: right;\n",
       "    }\n",
       "</style>\n",
       "<table border=\"1\" class=\"dataframe\">\n",
       "  <thead>\n",
       "    <tr style=\"text-align: right;\">\n",
       "      <th></th>\n",
       "      <th>0</th>\n",
       "    </tr>\n",
       "  </thead>\n",
       "  <tbody>\n",
       "    <tr>\n",
       "      <th>0</th>\n",
       "      <td>/home/aditya/yolov3/master/data/images/003436.png</td>\n",
       "    </tr>\n",
       "    <tr>\n",
       "      <th>1</th>\n",
       "      <td>/home/aditya/yolov3/master/data/images/006475.png</td>\n",
       "    </tr>\n",
       "    <tr>\n",
       "      <th>2</th>\n",
       "      <td>/home/aditya/yolov3/master/data/images/002572.png</td>\n",
       "    </tr>\n",
       "    <tr>\n",
       "      <th>3</th>\n",
       "      <td>/home/aditya/yolov3/master/data/images/002523.png</td>\n",
       "    </tr>\n",
       "    <tr>\n",
       "      <th>4</th>\n",
       "      <td>/home/aditya/yolov3/master/data/images/001977.png</td>\n",
       "    </tr>\n",
       "  </tbody>\n",
       "</table>\n",
       "</div>"
      ],
      "text/plain": [
       "                                                   0\n",
       "0  /home/aditya/yolov3/master/data/images/003436.png\n",
       "1  /home/aditya/yolov3/master/data/images/006475.png\n",
       "2  /home/aditya/yolov3/master/data/images/002572.png\n",
       "3  /home/aditya/yolov3/master/data/images/002523.png\n",
       "4  /home/aditya/yolov3/master/data/images/001977.png"
      ]
     },
     "execution_count": 45,
     "metadata": {},
     "output_type": "execute_result"
    }
   ],
   "source": [
    "pathtofile.head()"
   ]
  },
  {
   "cell_type": "code",
   "execution_count": 46,
   "metadata": {},
   "outputs": [
    {
     "data": {
      "text/plain": [
       "6820"
      ]
     },
     "execution_count": 46,
     "metadata": {},
     "output_type": "execute_result"
    }
   ],
   "source": [
    "len(pathtofile)"
   ]
  },
  {
   "cell_type": "code",
   "execution_count": 47,
   "metadata": {},
   "outputs": [],
   "source": [
    "#train-test set split\n",
    "\n",
    "img_train, img_test = train_test_split(pathtofile, test_size = 0.1, random_state=42)"
   ]
  },
  {
   "cell_type": "code",
   "execution_count": 48,
   "metadata": {},
   "outputs": [
    {
     "data": {
      "text/plain": [
       "(6138, 682)"
      ]
     },
     "execution_count": 48,
     "metadata": {},
     "output_type": "execute_result"
    }
   ],
   "source": [
    "len(img_train),len(img_test)"
   ]
  },
  {
   "cell_type": "code",
   "execution_count": 49,
   "metadata": {},
   "outputs": [],
   "source": [
    "#train-validation set split\n",
    "\n",
    "img_train1, img_valid = train_test_split(img_train, test_size = 0.055, random_state=42)"
   ]
  },
  {
   "cell_type": "code",
   "execution_count": 50,
   "metadata": {},
   "outputs": [
    {
     "data": {
      "text/plain": [
       "(5800, 338)"
      ]
     },
     "execution_count": 50,
     "metadata": {},
     "output_type": "execute_result"
    }
   ],
   "source": [
    "len(img_train1),len(img_valid)"
   ]
  },
  {
   "cell_type": "code",
   "execution_count": 51,
   "metadata": {},
   "outputs": [],
   "source": [
    "img_train1.to_csv('/home/aditya/yolov3/master/data/train.txt',sep='\\n',header=None, index=False)"
   ]
  },
  {
   "cell_type": "code",
   "execution_count": 52,
   "metadata": {},
   "outputs": [],
   "source": [
    "img_test.to_csv('/home/aditya/yolov3/master/data/test.txt',sep='\\n',header=None, index=False)"
   ]
  },
  {
   "cell_type": "code",
   "execution_count": 53,
   "metadata": {},
   "outputs": [],
   "source": [
    "img_valid.to_csv('/home/aditya/yolov3/master/data/valid.txt',sep='\\n',header=None, index=False)"
   ]
  },
  {
   "cell_type": "code",
   "execution_count": 54,
   "metadata": {},
   "outputs": [],
   "source": [
    "trainsetpath = pd.read_csv('/home/aditya/yolov3/master/data/train.txt',sep='\\n',header=None)"
   ]
  },
  {
   "cell_type": "code",
   "execution_count": 55,
   "metadata": {},
   "outputs": [
    {
     "data": {
      "text/plain": [
       "5800"
      ]
     },
     "execution_count": 55,
     "metadata": {},
     "output_type": "execute_result"
    }
   ],
   "source": [
    "len(trainsetpath[0])"
   ]
  },
  {
   "cell_type": "code",
   "execution_count": 56,
   "metadata": {},
   "outputs": [],
   "source": [
    "#copying file to new folder for generating output for pseudo-labelling\n",
    "\n",
    "dst_dir = \"/home/aditya/yolov3/master/data/pseudo/images/\"\n",
    "pathlist = trainsetpath[0]"
   ]
  },
  {
   "cell_type": "code",
   "execution_count": 57,
   "metadata": {},
   "outputs": [],
   "source": [
    "#pathlist\n",
    "\n",
    "for path in pathlist:\n",
    "    src_dir = Path(path)\n",
    "    shutil.copy(src_dir,dst_dir) "
   ]
  },
  {
   "cell_type": "code",
   "execution_count": null,
   "metadata": {},
   "outputs": [],
   "source": []
  }
 ],
 "metadata": {
  "celltoolbar": "Raw Cell Format",
  "kernelspec": {
   "display_name": "Python 3",
   "language": "python",
   "name": "python3"
  },
  "language_info": {
   "codemirror_mode": {
    "name": "ipython",
    "version": 3
   },
   "file_extension": ".py",
   "mimetype": "text/x-python",
   "name": "python",
   "nbconvert_exporter": "python",
   "pygments_lexer": "ipython3",
   "version": "3.7.3"
  }
 },
 "nbformat": 4,
 "nbformat_minor": 2
}
